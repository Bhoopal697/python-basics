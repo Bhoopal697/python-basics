{
 "cells": [
  {
   "cell_type": "code",
   "execution_count": 10,
   "metadata": {
    "ExecuteTime": {
     "end_time": "2021-01-17T13:02:54.234252Z",
     "start_time": "2021-01-17T13:02:54.229534Z"
    }
   },
   "outputs": [],
   "source": [
    "import pandas as pd\n",
    "import streamlit as st \n",
    "from sklearn.linear_model import LogisticRegression\n"
   ]
  },
  {
   "cell_type": "code",
   "execution_count": 11,
   "metadata": {
    "ExecuteTime": {
     "end_time": "2021-01-17T13:02:54.946994Z",
     "start_time": "2021-01-17T13:02:54.925687Z"
    }
   },
   "outputs": [
    {
     "data": {
      "text/plain": [
       "<streamlit.delta_generator.DeltaGenerator at 0x15954045be0>"
      ]
     },
     "execution_count": 11,
     "metadata": {},
     "output_type": "execute_result"
    }
   ],
   "source": [
    "st.title('Model Deployment: Logistic Regression')\n",
    "\n",
    "st.sidebar.header('User Input Parameters')\n"
   ]
  },
  {
   "cell_type": "code",
   "execution_count": 12,
   "metadata": {
    "ExecuteTime": {
     "end_time": "2021-01-17T13:02:55.573755Z",
     "start_time": "2021-01-17T13:02:55.565700Z"
    }
   },
   "outputs": [],
   "source": [
    "def user_input_features():\n",
    "    CLMSEX = st.sidebar.selectbox('Gender',('1','0'))\n",
    "    CLMINSUR = st.sidebar.selectbox('Insurance',('1','0'))\n",
    "    SEATBELT = st.sidebar.selectbox('SeatBelt',('1','0'))\n",
    "    CLMAGE = st.sidebar.number_input(\"Insert the Age\")\n",
    "    LOSS = st.sidebar.number_input(\"Insert Loss\")\n",
    "    data = {'CLMSEX':CLMSEX,\n",
    "            'CLMINSUR':CLMINSUR,\n",
    "            'SEATBELT':SEATBELT,\n",
    "            'CLMAGE':CLMAGE,\n",
    "            'LOSS':LOSS}\n",
    "    features = pd.DataFrame(data,index = [0])\n",
    "    return features \n",
    "    "
   ]
  },
  {
   "cell_type": "code",
   "execution_count": 14,
   "metadata": {
    "ExecuteTime": {
     "end_time": "2021-01-17T13:07:14.250050Z",
     "start_time": "2021-01-17T13:07:14.175250Z"
    }
   },
   "outputs": [],
   "source": [
    "df = user_input_features()\n",
    "st.subheader('User Input parameters')\n",
    "st.write(df)\n",
    "\n",
    "claimants = pd.read_csv(\"claimants.csv\")\n",
    "claimants.drop([\"CASENUM\"],inplace=True,axis = 1)\n",
    "claimants = claimants.dropna()\n",
    "\n",
    "X = claimants.iloc[:,[1,2,3,4,5]]\n",
    "Y = claimants.iloc[:,0]\n",
    "clf = LogisticRegression()\n",
    "clf.fit(X,Y)\n",
    "\n",
    "prediction = clf.predict(df)\n",
    "prediction_proba = clf.predict_proba(df)\n",
    "\n",
    "st.subheader('Predicted Result')\n",
    "st.write('Yes' if prediction_proba[0][1] > 0.5 else 'No')\n",
    "\n",
    "st.subheader('Prediction Probability')\n",
    "st.write(prediction_proba)"
   ]
  },
  {
   "cell_type": "code",
   "execution_count": null,
   "metadata": {},
   "outputs": [],
   "source": []
  }
 ],
 "metadata": {
  "kernelspec": {
   "display_name": "Python 3",
   "language": "python",
   "name": "python3"
  },
  "language_info": {
   "codemirror_mode": {
    "name": "ipython",
    "version": 3
   },
   "file_extension": ".py",
   "mimetype": "text/x-python",
   "name": "python",
   "nbconvert_exporter": "python",
   "pygments_lexer": "ipython3",
   "version": "3.8.3"
  },
  "varInspector": {
   "cols": {
    "lenName": 16,
    "lenType": 16,
    "lenVar": 40
   },
   "kernels_config": {
    "python": {
     "delete_cmd_postfix": "",
     "delete_cmd_prefix": "del ",
     "library": "var_list.py",
     "varRefreshCmd": "print(var_dic_list())"
    },
    "r": {
     "delete_cmd_postfix": ") ",
     "delete_cmd_prefix": "rm(",
     "library": "var_list.r",
     "varRefreshCmd": "cat(var_dic_list()) "
    }
   },
   "types_to_exclude": [
    "module",
    "function",
    "builtin_function_or_method",
    "instance",
    "_Feature"
   ],
   "window_display": false
  }
 },
 "nbformat": 4,
 "nbformat_minor": 4
}
